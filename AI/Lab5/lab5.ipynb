{
 "cells": [
  {
   "cell_type": "code",
   "execution_count": 1,
   "metadata": {},
   "outputs": [
    {
     "name": "stderr",
     "output_type": "stream",
     "text": [
      "/home/khosta/.local/lib/python3.10/site-packages/matplotlib/projections/__init__.py:63: UserWarning: Unable to import Axes3D. This may be due to multiple versions of Matplotlib being installed (e.g. as a system package and as a pip package). As a result, the 3D projection is not available.\n",
      "  warnings.warn(\"Unable to import Axes3D. This may be due to multiple versions of \"\n"
     ]
    }
   ],
   "source": [
    "import torch\n",
    "from torch import nn\n",
    "import matplotlib.pyplot as plt\n",
    "import numpy as np"
   ]
  },
  {
   "cell_type": "code",
   "execution_count": 2,
   "metadata": {},
   "outputs": [
    {
     "name": "stdout",
     "output_type": "stream",
     "text": [
      "2.3.0+cu118\n"
     ]
    }
   ],
   "source": [
    "print(torch.__version__)"
   ]
  },
  {
   "cell_type": "code",
   "execution_count": 3,
   "metadata": {},
   "outputs": [],
   "source": [
    "from sklearn.datasets import load_iris"
   ]
  },
  {
   "cell_type": "code",
   "execution_count": 4,
   "metadata": {},
   "outputs": [
    {
     "data": {
      "text/plain": [
       "sklearn.utils._bunch.Bunch"
      ]
     },
     "execution_count": 4,
     "metadata": {},
     "output_type": "execute_result"
    }
   ],
   "source": [
    "iris = load_iris()\n",
    "type(iris)"
   ]
  },
  {
   "cell_type": "code",
   "execution_count": 5,
   "metadata": {},
   "outputs": [
    {
     "name": "stdout",
     "output_type": "stream",
     "text": [
      "<class 'numpy.ndarray'> <class 'numpy.ndarray'>\n"
     ]
    }
   ],
   "source": [
    "X = iris.data\n",
    "y = iris.target\n",
    "print(type(X), type(y))"
   ]
  },
  {
   "cell_type": "code",
   "execution_count": 6,
   "metadata": {},
   "outputs": [],
   "source": [
    "from sklearn.preprocessing import StandardScaler\n",
    "from sklearn.model_selection import train_test_split\n"
   ]
  },
  {
   "cell_type": "code",
   "execution_count": 7,
   "metadata": {},
   "outputs": [],
   "source": [
    "X_train, X_test, y_train, y_test = train_test_split(X, y, test_size=0.2, random_state=42)"
   ]
  },
  {
   "cell_type": "code",
   "execution_count": 8,
   "metadata": {},
   "outputs": [
    {
     "data": {
      "text/plain": [
       "((120, 4), (120,))"
      ]
     },
     "execution_count": 8,
     "metadata": {},
     "output_type": "execute_result"
    }
   ],
   "source": [
    "X_train.shape, y_train.shape"
   ]
  },
  {
   "cell_type": "code",
   "execution_count": 9,
   "metadata": {},
   "outputs": [
    {
     "data": {
      "text/plain": [
       "((30, 4), (30,))"
      ]
     },
     "execution_count": 9,
     "metadata": {},
     "output_type": "execute_result"
    }
   ],
   "source": [
    "X_test.shape, y_test.shape"
   ]
  },
  {
   "cell_type": "code",
   "execution_count": 10,
   "metadata": {},
   "outputs": [],
   "source": [
    "scaler = StandardScaler()\n",
    "X_train = scaler.fit_transform(X_train)\n",
    "X_test = scaler.transform(X_test)"
   ]
  },
  {
   "cell_type": "code",
   "execution_count": 11,
   "metadata": {},
   "outputs": [],
   "source": [
    "X_train_tensor = torch.FloatTensor(X_train)\n",
    "X_test_tensor = torch.FloatTensor(X_test)\n",
    "y_train_tensor = torch.LongTensor(y_train)\n",
    "y_test_tensor = torch.LongTensor(y_test)"
   ]
  },
  {
   "cell_type": "code",
   "execution_count": 12,
   "metadata": {},
   "outputs": [],
   "source": [
    "class NeuralNetworkClassificationModel(nn.Module):  #nn.Module must always be inherited\n",
    "    def __init__(self, input_dim, output_dim):\n",
    "        super(NeuralNetworkClassificationModel, self).__init__()\n",
    "        self.input_layer = nn.Linear(input_dim, 128)\n",
    "        self.hidden_layer1 = nn.Linear(128, 64)\n",
    "        self.output_layer = nn.Linear(64, output_dim)\n",
    "        self.relu = nn.ReLU()\n",
    "\n",
    "    def forward(self, x):\n",
    "        out = self.relu(self.input_layer(x))\n",
    "        out = self.relu(self.hidden_layer1(out))\n",
    "        out = self.output_layer(out)\n",
    "        return out\n"
   ]
  },
  {
   "cell_type": "code",
   "execution_count": 13,
   "metadata": {},
   "outputs": [
    {
     "name": "stdout",
     "output_type": "stream",
     "text": [
      "NeuralNetworkClassificationModel(\n",
      "  (input_layer): Linear(in_features=4, out_features=128, bias=True)\n",
      "  (hidden_layer1): Linear(in_features=128, out_features=64, bias=True)\n",
      "  (output_layer): Linear(in_features=64, out_features=3, bias=True)\n",
      "  (relu): ReLU()\n",
      ")\n"
     ]
    }
   ],
   "source": [
    "input_dim = 4\n",
    "output_dim = 3\n",
    "model = NeuralNetworkClassificationModel(input_dim, output_dim)\n",
    "print(model)"
   ]
  },
  {
   "cell_type": "code",
   "execution_count": 14,
   "metadata": {},
   "outputs": [],
   "source": [
    "learning_rate = 0.01\n",
    "criterion = nn.CrossEntropyLoss()\n",
    "optimizer = torch.optim.Adam(model.parameters(), lr = learning_rate)"
   ]
  },
  {
   "cell_type": "code",
   "execution_count": 15,
   "metadata": {},
   "outputs": [],
   "source": [
    "def train_network(model, optimizer, criterion,\n",
    "                  X_train, y_train,X_test, y_test, num_epochs, \n",
    "                  train_losses, test_losses):\n",
    "    for epoch in range(num_epochs):\n",
    "        #Training mode\n",
    "        model.train()\n",
    "\n",
    "        # 1. Forward Pass\n",
    "        y_preds = model(X_train)\n",
    "\n",
    "        # 2. Compute Loss\n",
    "        loss_train = criterion(y_preds, y_train)\n",
    "\n",
    "        # 3. Optimizer Zero Grad\n",
    "        optimizer.zero_grad()\n",
    "\n",
    "        # 4. Backpropagate\n",
    "        loss_train.backward()\n",
    "\n",
    "        # 5. Upadate the weights\n",
    "        optimizer.step()\n",
    "\n",
    "        # Testing Mode\n",
    "        model.eval()\n",
    "\n",
    "        with torch.inference_mode():\n",
    "            test_preds = model(X_test)\n",
    "            loss_test = criterion(test_preds, y_test)\n",
    "\n",
    "        train_losses[epoch] = loss_train.item()\n",
    "        test_losses[epoch] = loss_test.item()\n",
    "\n",
    "        if (epoch + 1) % 10 == 0:\n",
    "            print(f\"Epoch {epoch + 1}/{num_epochs} | Train Loss: {loss_train.item():.4f} | Test Loss: {loss_test.item():.4f}\")\n",
    "            \n"
   ]
  },
  {
   "cell_type": "code",
   "execution_count": 16,
   "metadata": {},
   "outputs": [
    {
     "name": "stdout",
     "output_type": "stream",
     "text": [
      "Epoch 10/500 | Train Loss: 0.1941 | Test Loss: 0.1086\n",
      "Epoch 20/500 | Train Loss: 0.0557 | Test Loss: 0.0371\n",
      "Epoch 30/500 | Train Loss: 0.0400 | Test Loss: 0.0066\n",
      "Epoch 40/500 | Train Loss: 0.0335 | Test Loss: 0.0044\n",
      "Epoch 50/500 | Train Loss: 0.0283 | Test Loss: 0.0067\n",
      "Epoch 60/500 | Train Loss: 0.0219 | Test Loss: 0.0036\n",
      "Epoch 70/500 | Train Loss: 0.0149 | Test Loss: 0.0028\n",
      "Epoch 80/500 | Train Loss: 0.0089 | Test Loss: 0.0031\n",
      "Epoch 90/500 | Train Loss: 0.0049 | Test Loss: 0.0113\n",
      "Epoch 100/500 | Train Loss: 0.0028 | Test Loss: 0.0387\n",
      "Epoch 110/500 | Train Loss: 0.0017 | Test Loss: 0.0763\n",
      "Epoch 120/500 | Train Loss: 0.0012 | Test Loss: 0.1118\n",
      "Epoch 130/500 | Train Loss: 0.0009 | Test Loss: 0.1365\n",
      "Epoch 140/500 | Train Loss: 0.0007 | Test Loss: 0.1449\n",
      "Epoch 150/500 | Train Loss: 0.0006 | Test Loss: 0.1565\n",
      "Epoch 160/500 | Train Loss: 0.0005 | Test Loss: 0.1649\n",
      "Epoch 170/500 | Train Loss: 0.0004 | Test Loss: 0.1692\n",
      "Epoch 180/500 | Train Loss: 0.0004 | Test Loss: 0.1705\n",
      "Epoch 190/500 | Train Loss: 0.0003 | Test Loss: 0.1761\n",
      "Epoch 200/500 | Train Loss: 0.0003 | Test Loss: 0.1783\n",
      "Epoch 210/500 | Train Loss: 0.0003 | Test Loss: 0.1822\n",
      "Epoch 220/500 | Train Loss: 0.0002 | Test Loss: 0.1843\n",
      "Epoch 230/500 | Train Loss: 0.0002 | Test Loss: 0.1846\n",
      "Epoch 240/500 | Train Loss: 0.0002 | Test Loss: 0.1861\n",
      "Epoch 250/500 | Train Loss: 0.0002 | Test Loss: 0.1879\n",
      "Epoch 260/500 | Train Loss: 0.0002 | Test Loss: 0.1901\n",
      "Epoch 270/500 | Train Loss: 0.0001 | Test Loss: 0.1890\n",
      "Epoch 280/500 | Train Loss: 0.0001 | Test Loss: 0.1907\n",
      "Epoch 290/500 | Train Loss: 0.0001 | Test Loss: 0.1897\n",
      "Epoch 300/500 | Train Loss: 0.0001 | Test Loss: 0.1914\n",
      "Epoch 310/500 | Train Loss: 0.0001 | Test Loss: 0.1917\n",
      "Epoch 320/500 | Train Loss: 0.0001 | Test Loss: 0.1907\n",
      "Epoch 330/500 | Train Loss: 0.0001 | Test Loss: 0.1923\n",
      "Epoch 340/500 | Train Loss: 0.0001 | Test Loss: 0.1946\n",
      "Epoch 350/500 | Train Loss: 0.0001 | Test Loss: 0.1966\n",
      "Epoch 360/500 | Train Loss: 0.0001 | Test Loss: 0.1959\n",
      "Epoch 370/500 | Train Loss: 0.0001 | Test Loss: 0.1962\n",
      "Epoch 380/500 | Train Loss: 0.0001 | Test Loss: 0.1981\n",
      "Epoch 390/500 | Train Loss: 0.0001 | Test Loss: 0.1986\n",
      "Epoch 400/500 | Train Loss: 0.0001 | Test Loss: 0.1989\n",
      "Epoch 410/500 | Train Loss: 0.0001 | Test Loss: 0.1982\n",
      "Epoch 420/500 | Train Loss: 0.0001 | Test Loss: 0.1991\n",
      "Epoch 430/500 | Train Loss: 0.0001 | Test Loss: 0.2002\n",
      "Epoch 440/500 | Train Loss: 0.0001 | Test Loss: 0.2010\n",
      "Epoch 450/500 | Train Loss: 0.0001 | Test Loss: 0.2016\n",
      "Epoch 460/500 | Train Loss: 0.0000 | Test Loss: 0.2017\n",
      "Epoch 470/500 | Train Loss: 0.0000 | Test Loss: 0.2024\n",
      "Epoch 480/500 | Train Loss: 0.0000 | Test Loss: 0.2027\n",
      "Epoch 490/500 | Train Loss: 0.0000 | Test Loss: 0.2040\n",
      "Epoch 500/500 | Train Loss: 0.0000 | Test Loss: 0.2039\n"
     ]
    }
   ],
   "source": [
    "num_epochs = 500\n",
    "train_losses = np.zeros(num_epochs)\n",
    "test_losses = np.zeros(num_epochs)\n",
    "train_network(model, optimizer, criterion, X_train_tensor, y_train_tensor, X_test_tensor, y_test_tensor, num_epochs, train_losses, test_losses)"
   ]
  },
  {
   "cell_type": "code",
   "execution_count": 17,
   "metadata": {},
   "outputs": [
    {
     "data": {
      "image/png": "[encoded data removed]",
      "text/plain": [
       "<Figure size 1000x2000 with 1 Axes>"
      ]
     },
     "metadata": {},
     "output_type": "display_data"
    }
   ],
   "source": [
    "plt.figure(figsize=(10, 20))\n",
    "plt.plot(train_losses, label=\"Training Loss\")\n",
    "plt.plot(test_losses, label=\"Testing Loss\")\n",
    "plt.legend()\n",
    "plt.show()"
   ]
  },
  {
   "cell_type": "code",
   "execution_count": 18,
   "metadata": {},
   "outputs": [],
   "source": [
    "from sklearn.metrics import accuracy_score, classification_report\n",
    "with torch.inference_mode():\n",
    "    train_preds = model(X_train_tensor)\n",
    "    test_preds = model(X_test_tensor)"
   ]
  },
  {
   "cell_type": "code",
   "execution_count": 19,
   "metadata": {},
   "outputs": [
    {
     "data": {
      "text/plain": [
       "tensor([[ 34.4515,  11.2800, -55.3036],\n",
       "        [ 33.5994,  21.9418, -65.8155],\n",
       "        [ -4.3026,  16.9228, -12.2478],\n",
       "        [ 28.9226,  10.6683, -47.8310],\n",
       "        [ 30.9424,   8.5366, -47.9873],\n",
       "        [-16.1324,   1.3548,  13.6548],\n",
       "        [ -3.8239,  15.5005, -11.4031],\n",
       "        [ 27.7327,  12.5931, -48.4722],\n",
       "        [ 30.3164,  12.3652, -51.4330],\n",
       "        [ 34.6399,  15.8300, -60.7473],\n",
       "        [-14.3841,   1.2782,  12.2952],\n",
       "        [ -0.5625,  14.4764, -13.9472],\n",
       "        [ -6.3495,  14.4258,  -7.9420],\n",
       "        [ 29.6679,  16.3800, -54.9415],\n",
       "        [ 28.4605,  14.4794, -51.4687],\n",
       "        [ -4.3735,  16.3238, -11.5803],\n",
       "        [-11.4771,   1.5535,   8.9468],\n",
       "        [-12.6388,  -0.7978,  12.6184],\n",
       "        [ -5.3407,  15.9207, -10.2144],\n",
       "        [-15.5061,  -2.6650,  17.2160],\n",
       "        [ -3.2980,  16.1763, -12.3043],\n",
       "        [-20.6594,  -8.2528,  27.3512],\n",
       "        [ -4.4117,  15.5899, -10.5649],\n",
       "        [ 28.7580,  12.3417, -49.4481],\n",
       "        [-22.2921, -10.3730,  30.8067],\n",
       "        [ -3.2960,  16.4254, -12.5867],\n",
       "        [ 27.2369,  12.3154, -47.5140],\n",
       "        [ 28.8958,  12.0093, -49.2212],\n",
       "        [ 28.0709,  13.1925, -49.6746],\n",
       "        [ -6.9653,   8.9973,  -1.9993],\n",
       "        [-13.6484,   1.3466,  11.2721],\n",
       "        [ 27.8070,  10.6381, -46.4460],\n",
       "        [ 23.9678,  10.8099, -41.6820],\n",
       "        [ 23.1297,  11.0781, -41.0359],\n",
       "        [ -5.9714,  15.2196,  -8.8849],\n",
       "        [ 27.4629,  11.9189, -47.3671],\n",
       "        [ -1.1430,  15.5084, -13.8939],\n",
       "        [-13.0290,   0.6420,  10.9867],\n",
       "        [ 29.1274,   9.2537, -46.4880],\n",
       "        [ -4.9398,  13.8132,  -8.6609],\n",
       "        [-17.1433,  -2.0992,  18.0786],\n",
       "        [ 33.7132,  18.5434, -62.3987],\n",
       "        [-10.7477,   1.3633,   8.6574],\n",
       "        [-14.3841,   1.2782,  12.2952],\n",
       "        [ -7.8266,  16.9670,  -8.8198],\n",
       "        [ -3.9643,  15.7149, -11.0576],\n",
       "        [-12.3520,  -1.5155,  13.4368],\n",
       "        [ -9.9652,  10.4702,  -0.6147],\n",
       "        [ 28.1409,  15.8532, -52.5711],\n",
       "        [ -2.2642,  11.8593,  -9.7583],\n",
       "        [-16.2605,  -4.1366,  19.0183],\n",
       "        [ 27.4949,  10.8809, -46.2787],\n",
       "        [ 27.3236,  10.5255, -45.6509],\n",
       "        [ -5.9090,  15.2996,  -8.9638],\n",
       "        [-10.2671,   8.7151,   1.3385],\n",
       "        [ 25.8578,  10.2892, -43.5137],\n",
       "        [-18.5809, -10.4119,  27.5530],\n",
       "        [ 28.0433,  11.3778, -47.5140],\n",
       "        [ 25.2219,  11.6100, -44.2215],\n",
       "        [ -7.1811,   7.5714,  -0.4023],\n",
       "        [  0.7132,  13.5601, -14.7031],\n",
       "        [-16.6733,  -4.2472,  20.0602],\n",
       "        [-11.2488,   8.8812,   2.0830],\n",
       "        [-13.3827,   2.0427,  10.4351],\n",
       "        [-19.8218,  -2.6071,  21.3908],\n",
       "        [ -7.6850,  13.0364,  -5.2026],\n",
       "        [ 28.0977,   7.5248, -43.6146],\n",
       "        [ 31.5362,   7.7282, -48.1374],\n",
       "        [-16.3327,   3.5141,  11.7968],\n",
       "        [-13.7102,   0.2850,  12.5163],\n",
       "        [ 27.9867,   8.9640, -44.7750],\n",
       "        [ 27.8705,  12.2607, -48.2453],\n",
       "        [ 29.2995,   7.8834, -45.4021],\n",
       "        [-11.9523,   9.7868,   1.7201],\n",
       "        [-14.4674,  -5.1225,  18.9360],\n",
       "        [ 30.1195,  10.0948, -48.6285],\n",
       "        [-16.0005,  -2.3897,  17.4433],\n",
       "        [-18.6079, -13.6625,  30.9692],\n",
       "        [ 28.8365,   9.8612, -46.7499],\n",
       "        [ -7.5606,   9.2140,  -1.9497],\n",
       "        [ -9.0402,  10.0475,  -1.3350],\n",
       "        [-12.4610,   1.6940,   9.8559],\n",
       "        [ -4.5529,  16.5501, -11.8811],\n",
       "        [-15.0941,  -4.7727,  19.0070],\n",
       "        [ 30.8649,  13.4447, -53.4007],\n",
       "        [-14.5322,   0.9801,  12.9400],\n",
       "        [ -4.4985,  14.2914,  -9.4495],\n",
       "        [-13.9907,  -0.8651,  14.0029],\n",
       "        [ -1.8384,  17.9810, -15.6579],\n",
       "        [ -5.3107,  12.4859,  -6.7409],\n",
       "        [ -5.9683,  11.3017,  -5.4114],\n",
       "        [ 20.6208,   8.5116, -35.1886],\n",
       "        [ -6.5673,  13.4169,  -6.8663],\n",
       "        [ -7.0984,  13.2523,  -5.9509],\n",
       "        [ 29.0372,  13.9565, -51.6218],\n",
       "        [ -1.2761,  16.2708, -14.4271],\n",
       "        [-18.1145,  -6.2804,  22.8994],\n",
       "        [-13.8588,  -1.2183,  14.4292],\n",
       "        [ 28.5452,  12.9008, -49.8457],\n",
       "        [ -0.3397,  11.5497, -11.6872],\n",
       "        [-17.5441,  -7.8260,  24.4266],\n",
       "        [-13.3067,   1.7855,  10.6510],\n",
       "        [ 31.8419,  12.1277, -53.0745],\n",
       "        [-18.2124,  -8.2581,  25.2719],\n",
       "        [ 25.4702,  10.5199, -43.2234],\n",
       "        [ -7.2543,  13.4743,  -6.2108],\n",
       "        [-18.7892,  -3.9834,  21.4102],\n",
       "        [-15.1140,  -5.9315,  19.6925],\n",
       "        [ -4.2877,  16.3814, -11.5800],\n",
       "        [-13.6094,  -1.2727,  13.9285],\n",
       "        [-10.9879,  13.4398,  -2.6432],\n",
       "        [ -5.1990,  14.4874,  -9.0519],\n",
       "        [-13.7597,   0.4375,  12.5532],\n",
       "        [-11.5367,   0.1524,  10.6304],\n",
       "        [ 24.7553,  12.8024, -45.0284],\n",
       "        [ -4.7958,  15.0173,  -9.8348],\n",
       "        [-13.5642,  -1.6420,  14.4042],\n",
       "        [ 30.7463,  19.7944, -59.8675],\n",
       "        [ -5.5618,  16.8699, -10.8487],\n",
       "        [-17.6172,  -3.7123,  20.2630]])"
      ]
     },
     "execution_count": 19,
     "metadata": {},
     "output_type": "execute_result"
    }
   ],
   "source": [
    "train_preds"
   ]
  },
  {
   "cell_type": "code",
   "execution_count": 20,
   "metadata": {},
   "outputs": [],
   "source": [
    "train_preds = train_preds.numpy()\n",
    "test_preds = test_preds.numpy()\n",
    "final_train_preds = []\n",
    "final_test_preds = []\n",
    "for i in range(len(train_preds)):\n",
    "    final_train_preds.append(np.argmax(train_preds[i]))\n",
    "for i in range(len(test_preds)):\n",
    "    final_test_preds.append(np.argmax(test_preds[i]))"
   ]
  },
  {
   "cell_type": "code",
   "execution_count": 21,
   "metadata": {},
   "outputs": [
    {
     "name": "stdout",
     "output_type": "stream",
     "text": [
      "Accuracy on Training Data  100.0\n",
      "Accuracy on Training Data  96.66666666666667\n"
     ]
    }
   ],
   "source": [
    "print(\"Accuracy on Training Data \", accuracy_score(y_train, final_train_preds)* 100)\n",
    "print(\"Accuracy on Training Data \", accuracy_score(y_test, final_test_preds)* 100)\n"
   ]
  }
 ],
 "metadata": {
  "kernelspec": {
   "display_name": "Python 3",
   "language": "python",
   "name": "python3"
  },
  "language_info": {
   "codemirror_mode": {
    "name": "ipython",
    "version": 3
   },
   "file_extension": ".py",
   "mimetype": "text/x-python",
   "name": "python",
   "nbconvert_exporter": "python",
   "pygments_lexer": "ipython3",
   "version": "3.10.12"
  }
 },
 "nbformat": 4,
 "nbformat_minor": 2
}
