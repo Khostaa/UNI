{
 "cells": [
  {
   "cell_type": "code",
   "execution_count": 51,
   "metadata": {},
   "outputs": [],
   "source": [
    "import numpy as np\n",
    "import matplotlib.pyplot as plt"
   ]
  },
  {
   "cell_type": "code",
   "execution_count": 52,
   "metadata": {},
   "outputs": [],
   "source": [
    "# i/p for i/p neurons\n",
    "x = np.array([[0,0,1,1],[0,1,0,1]])\n",
    "# o/p for o/p neurons\n",
    "y = np.array([[0,1,1,0]])\n"
   ]
  },
  {
   "cell_type": "code",
   "execution_count": 53,
   "metadata": {},
   "outputs": [],
   "source": [
    "# no. of i/p\n",
    "n_x = 2\n",
    "# no. of hidden layers\n",
    "n_h = 2\n",
    "# no. of o/p layer\n",
    "n_y = 1"
   ]
  },
  {
   "cell_type": "code",
   "execution_count": 54,
   "metadata": {},
   "outputs": [],
   "source": [
    "# number of training examples\n",
    "m = x.shape[1] # number of columns in i/p matrix x\n",
    "# print(m)\n",
    "\n",
    "# learning rate\n",
    "lr = 0.1 # determines step size duign optimization process\n",
    "\n",
    "# random seeds - for consistent/reproducible results\n",
    "np.random.seed(2)"
   ]
  },
  {
   "cell_type": "code",
   "execution_count": 55,
   "metadata": {},
   "outputs": [],
   "source": [
    "# weight matrix for neural network\n",
    "# generates matrix with dimension n_h * n_x  i.e, 2*2 with random values between 0 and 1\n",
    "w1 = np.random.rand(n_h, n_x) # weight matrix for hidden layer\n",
    "\n",
    "# generates n_y * n_h i.e 1*2 matrix\n",
    "w2 = np.random.rand(n_y, n_h) # weight matrix for output layer"
   ]
  },
  {
   "cell_type": "code",
   "execution_count": 56,
   "metadata": {},
   "outputs": [],
   "source": [
    "# list to accumulate losses during traning\n",
    "losses = []"
   ]
  },
  {
   "cell_type": "code",
   "execution_count": 57,
   "metadata": {},
   "outputs": [],
   "source": [
    "# Sigmoid actiavation function\n",
    "def sigmoid(t):\n",
    "    return 1 / (1 + np.exp(-t))"
   ]
  },
  {
   "cell_type": "code",
   "execution_count": 58,
   "metadata": {},
   "outputs": [],
   "source": [
    "# Forward Propagation\n",
    "# a_1 = x_1 * w_13 + x_2 * w_24\n",
    "# Forward propagation\n",
    "def forward_prop(w1,w2,x):\n",
    "    z1 = np.dot(w1,x) # computes weighted sum for hidden layer\n",
    "    a1 = sigmoid(z1) # applies sigmoid function to hidden layer's weighted sum\n",
    "    z2 = np.dot(w2,a1) # computes weighted sum for o/p layer\n",
    "    a2 = sigmoid(z2) # applies sigmoid function to o/p layers' weighted sum\n",
    "    return z1,a1,z2,a2"
   ]
  },
  {
   "cell_type": "code",
   "execution_count": 59,
   "metadata": {},
   "outputs": [],
   "source": [
    "# Backward Propagation\n",
    "def back_prop(m,w1,w2,z1,a1,z2,a2,y):\n",
    "    \n",
    "    dz2 = a2-y # error at o/p layer\n",
    "    dw2 = np.dot(dz2,a1.T)/m # gradient of loss w.r.t w2\n",
    "    dz1 = np.dot(w2.T,dz2) * a1*(1-a1) # error a5 hidden layer\n",
    "    dw1 = np.dot(dz1,x.T)/m # gradient of loss w.r.t w1\n",
    "\n",
    "    # reshaping dw1 & dw2 to match the dimension of w1 & w2\n",
    "    dw1 = np.reshape(dw1,w1.shape)\n",
    "    dw2 = np.reshape(dw2,w2.shape)    \n",
    "    return dz2,dw2,dz1,dw1"
   ]
  },
  {
   "cell_type": "code",
   "execution_count": 60,
   "metadata": {},
   "outputs": [],
   "source": [
    "iterations = 250000 # no. of training iterations\n",
    "for i in range(iterations):\n",
    "    z1,a1,z2,a2 = forward_prop(w1,w2,x) # forward propagation to get o/p\n",
    "    loss = -(1/m)*np.sum(y*np.log(a2)+(1-y)*np.log(1-a2)) # binary cross-entropy loss\n",
    "    losses.append(loss) # append loss to losses list\n",
    "    da2,dw2,dz1,dw1 = back_prop(m,w1,w2,z1,a1,z2,a2,y) # back propagation to get gradients\n",
    "    w2 = w2-lr*dw2 # updated weights for o/p lyaer\n",
    "    w1 = w1-lr*dw1 # updated weights for hidden layer\n"
   ]
  },
  {
   "cell_type": "code",
   "execution_count": 61,
   "metadata": {},
   "outputs": [
    {
     "data": {
      "text/plain": [
       "Text(0, 0.5, 'Loss')"
      ]
     },
     "execution_count": 61,
     "metadata": {},
     "output_type": "execute_result"
    },
    {
     "data": {
      "image/png": "[encoded data removed]",
      "text/plain": [
       "<Figure size 640x480 with 1 Axes>"
      ]
     },
     "metadata": {},
     "output_type": "display_data"
    }
   ],
   "source": [
    "# plotting\n",
    "plt.plot(losses)\n",
    "plt.xlabel('Epochs')\n",
    "plt.ylabel('Loss')"
   ]
  },
  {
   "cell_type": "code",
   "execution_count": 64,
   "metadata": {},
   "outputs": [],
   "source": [
    "def predict(w1,w2,input):\n",
    "    \"\"\"\n",
    "    makes predictions with trained neural network\n",
    "    \n",
    "    args:\n",
    "    w1(matrix): for hidden layer\n",
    "    w2(matrix): for o/p layer \n",
    "    \"\"\"\n",
    "    z1,a1,z2,a2 = forward_prop(w1,w2,input) # forward propagation - computes o/p 'a2' of neural n/w for given i/p\n",
    "    a2 = np.squeeze(a2) # squeezes o/p to remove single dimensional entries from the shape\n",
    "    if a2>=0.5:\n",
    "        print(\"For input\", [i[0] for i in input], \"output is 1\")# ['{:.2f}'.format(i) for i in x])\n",
    "    else:\n",
    "        print(\"For input\", [i[0] for i in input], \"output is 0\")"
   ]
  },
  {
   "cell_type": "code",
   "execution_count": 63,
   "metadata": {},
   "outputs": [
    {
     "name": "stdout",
     "output_type": "stream",
     "text": [
      "For input [1, 1] output is 0\n"
     ]
    }
   ],
   "source": [
    "test = np.array([[1],[1]])\n",
    "predict(w1,w2,test)"
   ]
  }
 ],
 "metadata": {
  "kernelspec": {
   "display_name": "Python 3",
   "language": "python",
   "name": "python3"
  },
  "language_info": {
   "codemirror_mode": {
    "name": "ipython",
    "version": 3
   },
   "file_extension": ".py",
   "mimetype": "text/x-python",
   "name": "python",
   "nbconvert_exporter": "python",
   "pygments_lexer": "ipython3",
   "version": "3.10.12"
  }
 },
 "nbformat": 4,
 "nbformat_minor": 2
}
