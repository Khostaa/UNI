{
 "cells": [
  {
   "cell_type": "code",
   "execution_count": null,
   "metadata": {},
   "outputs": [],
   "source": [
    "def checkValidity(side):\n",
    "    if 'G' == side and 'Wo' == side:\n",
    "        return False\n",
    "    elif 'G' == side and 'C' == side:\n",
    "        return False\n",
    "    else:\n",
    "        return True"
   ]
  },
  {
   "cell_type": "code",
   "execution_count": null,
   "metadata": {},
   "outputs": [],
   "source": [
    "visited = []\n",
    "queue = { 'F' : 'W', 'G' : 'W', 'Wo' : 'W', 'C':'W'  }"
   ]
  },
  {
   "cell_type": "code",
   "execution_count": null,
   "metadata": {},
   "outputs": [],
   "source": [
    "for i in len(queue):\n",
    "    goalState = 'E'\n",
    "    state = queue[i].values\n",
    "    if  state == goalState:\n",
    "        print(\"Goal state reached\")\n",
    "    else:\n",
    "        \n",
    "\n"
   ]
  }
 ],
 "metadata": {
  "language_info": {
   "name": "python"
  }
 },
 "nbformat": 4,
 "nbformat_minor": 2
}
