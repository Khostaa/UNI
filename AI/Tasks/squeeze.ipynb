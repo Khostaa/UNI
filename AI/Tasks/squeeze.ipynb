{
 "cells": [
  {
   "cell_type": "code",
   "execution_count": 1,
   "metadata": {},
   "outputs": [
    {
     "name": "stdout",
     "output_type": "stream",
     "text": [
      "Original output shape: (4, 1, 1)\n",
      "Original output array:\n",
      " [[[0.8]]\n",
      "\n",
      " [[0.4]]\n",
      "\n",
      " [[0.6]]\n",
      "\n",
      " [[0.2]]]\n",
      "\n",
      "Squeezed output shape: (4,)\n",
      "Squeezed output array:\n",
      " [0.8 0.4 0.6 0.2]\n"
     ]
    }
   ],
   "source": [
    "import numpy as np\n",
    "\n",
    "# Example of neural network output\n",
    "output = np.array([[[0.8]], [[0.4]], [[0.6]], [[0.2]]])\n",
    "print(\"Original output shape:\", output.shape)\n",
    "print(\"Original output array:\\n\", output)\n",
    "\n",
    "# Using np.squeeze to remove single-dimensional entries\n",
    "squeezed_output = np.squeeze(output)\n",
    "print(\"\\nSqueezed output shape:\", squeezed_output.shape)\n",
    "print(\"Squeezed output array:\\n\", squeezed_output)"
   ]
  }
 ],
 "metadata": {
  "kernelspec": {
   "display_name": "Python 3",
   "language": "python",
   "name": "python3"
  },
  "language_info": {
   "codemirror_mode": {
    "name": "ipython",
    "version": 3
   },
   "file_extension": ".py",
   "mimetype": "text/x-python",
   "name": "python",
   "nbconvert_exporter": "python",
   "pygments_lexer": "ipython3",
   "version": "3.10.12"
  }
 },
 "nbformat": 4,
 "nbformat_minor": 2
}
