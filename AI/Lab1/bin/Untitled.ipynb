{
 "cells": [
  {
   "cell_type": "code",
   "execution_count": 8,
   "id": "2b04d4fd-166e-4fc1-8ea3-5dcdbc968c2c",
   "metadata": {},
   "outputs": [
    {
     "name": "stdin",
     "output_type": "stream",
     "text": [
      "Enter a number:  10\n"
     ]
    },
    {
     "name": "stdout",
     "output_type": "stream",
     "text": [
      "Even Number\n"
     ]
    }
   ],
   "source": [
    "# 1) WAP to check if an input number is odd or even\n",
    "x = input(\"Enter a number: \")\n",
    "def check(n):\n",
    "    if (n % 2 == 0):\n",
    "        print('Even Number')\n",
    "    else:\n",
    "        print('Odd Number')\n",
    "check(int(x))"
   ]
  },
  {
   "cell_type": "code",
   "execution_count": null,
   "id": "b68531f4-4bc0-4d31-a570-4e504732b5dd",
   "metadata": {},
   "outputs": [],
   "source": []
  }
 ],
 "metadata": {
  "kernelspec": {
   "display_name": "Python 3 (ipykernel)",
   "language": "python",
   "name": "python3"
  },
  "language_info": {
   "codemirror_mode": {
    "name": "ipython",
    "version": 3
   },
   "file_extension": ".py",
   "mimetype": "text/x-python",
   "name": "python",
   "nbconvert_exporter": "python",
   "pygments_lexer": "ipython3",
   "version": "3.10.12"
  }
 },
 "nbformat": 4,
 "nbformat_minor": 5
}
