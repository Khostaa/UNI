{
 "cells": [
  {
   "cell_type": "code",
   "execution_count": null,
   "id": "ab3dcaf9-5ff3-4691-9246-56c86c7f8948",
   "metadata": {},
   "outputs": [],
   "source": [
    "#Example of Graph\n",
    "\n",
    "class GraphCreator():\n",
    "    def __init__(self):\n",
    "        self.graph = {}\n",
    "    def add_edge(self, src, dest, w):\n",
    "        if src in self.graph:\n",
    "            data = self.graph[src]\n",
    "            self.graph[src] += [dest, w]\n",
    "        else:\n",
    "            self.graph[src] = [dest, w]\n",
    "    def display(self):\n",
    "        return self.graph\n",
    "\n",
    "g = GraphCreator()\n",
    "g.add_edge(\"Biratnagar\", \"Itahari\", 22)\n",
    "g.add_edge(\"Biratnagar\", \"Rangeli\", 25)\n",
    "g.add_edge(\"Itahari\", \"Dharan\", 20)\n",
    "g.display()"
   ]
  },
  {
   "cell_type": "code",
   "execution_count": null,
   "id": "137b2aa6-e8a7-4b2b-8b64-9ac69fe39e38",
   "metadata": {},
   "outputs": [],
   "source": [
    "#Example of Class\n",
    "\n",
    "class Vehicle():\n",
    "    def __init__(self, engine, company):\n",
    "        self.engine = engine\n",
    "        self.company = company\n",
    "    \n",
    "    def drive(self, model):\n",
    "        return f\"{model} {self.engine} {self.company}\"\n",
    "\n",
    "\n",
    "class Car(Vehicle):\n",
    "    def drive(self):\n",
    "        return f\"{self.engine} is Started!\"\n",
    "        \n",
    "\n",
    "c = Car(\"V8\", \"Te\")\n",
    "c.drive()\n",
    "\n",
    "    "
   ]
  }
 ],
 "metadata": {
  "kernelspec": {
   "display_name": "Python 3 (ipykernel)",
   "language": "python",
   "name": "python3"
  },
  "language_info": {
   "codemirror_mode": {
    "name": "ipython",
    "version": 3
   },
   "file_extension": ".py",
   "mimetype": "text/x-python",
   "name": "python",
   "nbconvert_exporter": "python",
   "pygments_lexer": "ipython3",
   "version": "3.10.12"
  }
 },
 "nbformat": 4,
 "nbformat_minor": 5
}
